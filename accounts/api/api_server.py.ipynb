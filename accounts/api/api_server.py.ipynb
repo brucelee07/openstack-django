{
 "cells": [
  {
   "cell_type": "code",
   "execution_count": 66,
   "metadata": {},
   "outputs": [
    {
     "name": "stdout",
     "output_type": "stream",
     "text": [
      "gAAAAABfWX_8YK7fKseGl8hnSPZrOeFd_uAK9tuYu4fY0UiqPWKYwHq9YkjkOC-uqZ7mYSdTw2xEqreDT0MZ4tiik-9we-eOgvLwJZ_QZzm0cd4trOc2MqUoD-6Istt9Yo4wQKpdvDKuJv-zhu36pYaKHf1qN2_OdrCwxF5rKrW5uIPj41gZEYA\n"
     ]
    }
   ],
   "source": [
    "import os\n",
    "import json\n",
    "import time\n",
    "\n",
    "# Base = os.path.dirname(__file__)\n",
    "# filepath = Base + \"/config.json\"\n",
    "filepath = \"./config.json\"\n",
    "commend = f\"\"\"curl -si -d @{filepath} -H \"Content-type: application/json\" http://10.0.0.194:5000/v3/auth/tokens\"\"\"\n",
    "\n",
    "tempres = os.popen(commend).readlines()\n",
    "scoped_token = tempres[4].split(\":\")[1].strip()\n",
    "print(scoped_token)"
   ]
  },
  {
   "cell_type": "code",
   "execution_count": 3,
   "metadata": {},
   "outputs": [
    {
     "name": "stdout",
     "output_type": "stream",
     "text": [
      "time.struct_time(tm_year=2020, tm_mon=9, tm_mday=10, tm_hour=1, tm_min=21, tm_sec=35, tm_wday=3, tm_yday=254, tm_isdst=-1)\n"
     ]
    }
   ],
   "source": [
    "admin_detain = json.loads(tempres[9])[\"token\"]\n",
    "expired_time = admin_detain[\"expires_at\"].replace(\"T\", \" \").replace(\".000000Z\", \"\")\n",
    "expired_time = time.strptime(expired_time, \"%Y-%m-%d %H:%M:%S\")\n",
    "print(expired_time)"
   ]
  },
  {
   "cell_type": "code",
   "execution_count": 85,
   "metadata": {},
   "outputs": [],
   "source": [
    "import requests\n",
    "\n",
    "servers_url = \"http://10.0.0.6:8774/v2.1/servers/detail\"\n",
    "\n",
    "headers = {\n",
    "    \"X-Auth-Token\": scoped_token\n",
    "}"
   ]
  },
  {
   "cell_type": "code",
   "execution_count": 86,
   "metadata": {},
   "outputs": [
    {
     "name": "stdout",
     "output_type": "stream",
     "text": [
      "b'{\"servers\": [{\"id\": \"01225672-17ed-4f95-9793-87471cb8a423\", \"name\": \"new_server\", \"status\": \"ACTIVE\", \"tenant_id\": \"4ff03a005c6c4ce294c871dc3ba7fcb4\", \"user_id\": \"fc4760631f1c4212b67b068856f36541\", \"metadata\": {}, \"hostId\": \"2c3def6867e3a2e2ea57940f65ba9eef26f71b86de9bf2ec649c2a3f\", \"image\": {\"id\": \"e14d4d1e-bf83-4c7e-8083-2bc0f0a9928e\", \"links\": [{\"rel\": \"bookmark\", \"href\": \"http://10.0.0.6:8774/images/e14d4d1e-bf83-4c7e-8083-2bc0f0a9928e\"}]}, \"flavor\": {\"id\": \"172f99c4-4498-49da-a779-382db9ced13b\", \"links\": [{\"rel\": \"bookmark\", \"href\": \"http://10.0.0.6:8774/flavors/172f99c4-4498-49da-a779-382db9ced13b\"}]}, \"created\": \"2020-09-10T01:42:26Z\", \"updated\": \"2020-09-10T01:42:37Z\", \"addresses\": {\"Pub_Net\": [{\"version\": 4, \"addr\": \"10.0.4.113\", \"OS-EXT-IPS:type\": \"fixed\", \"OS-EXT-IPS-MAC:mac_addr\": \"fa:16:3e:e9:d6:42\"}]}, \"accessIPv4\": \"\", \"accessIPv6\": \"\", \"links\": [{\"rel\": \"self\", \"href\": \"http://10.0.0.6:8774/v2.1/servers/01225672-17ed-4f95-9793-87471cb8a423\"}, {\"rel\": \"bookmark\", \"href\": \"http://10.0.0.6:8774/servers/01225672-17ed-4f95-9793-87471cb8a423\"}], \"OS-DCF:diskConfig\": \"MANUAL\", \"progress\": 0, \"OS-EXT-AZ:availability_zone\": \"nova\", \"config_drive\": \"\", \"key_name\": null, \"OS-SRV-USG:launched_at\": \"2020-09-10T01:42:36.000000\", \"OS-SRV-USG:terminated_at\": null, \"OS-EXT-SRV-ATTR:host\": \"os-compute03.maas\", \"OS-EXT-SRV-ATTR:instance_name\": \"instance-0000002c\", \"OS-EXT-SRV-ATTR:hypervisor_hostname\": \"os-compute03.maas\", \"OS-EXT-STS:task_state\": null, \"OS-EXT-STS:vm_state\": \"active\", \"OS-EXT-STS:power_state\": 1, \"os-extended-volumes:volumes_attached\": [], \"security_groups\": [{\"name\": \"default\"}]}, {\"id\": \"4b3371a3-d3fe-44a5-8acc-ccfca398e698\", \"name\": \"new_server\", \"status\": \"ACTIVE\", \"tenant_id\": \"4ff03a005c6c4ce294c871dc3ba7fcb4\", \"user_id\": \"fc4760631f1c4212b67b068856f36541\", \"metadata\": {}, \"hostId\": \"9f3f542ad9b108584545ee5cf9c5a30f7b6aae97001cc23e4063f2a1\", \"image\": {\"id\": \"e14d4d1e-bf83-4c7e-8083-2bc0f0a9928e\", \"links\": [{\"rel\": \"bookmark\", \"href\": \"http://10.0.0.6:8774/images/e14d4d1e-bf83-4c7e-8083-2bc0f0a9928e\"}]}, \"flavor\": {\"id\": \"172f99c4-4498-49da-a779-382db9ced13b\", \"links\": [{\"rel\": \"bookmark\", \"href\": \"http://10.0.0.6:8774/flavors/172f99c4-4498-49da-a779-382db9ced13b\"}]}, \"created\": \"2020-09-10T01:41:28Z\", \"updated\": \"2020-09-10T01:41:39Z\", \"addresses\": {\"Pub_Net\": [{\"version\": 4, \"addr\": \"10.0.4.26\", \"OS-EXT-IPS:type\": \"fixed\", \"OS-EXT-IPS-MAC:mac_addr\": \"fa:16:3e:83:2c:e9\"}]}, \"accessIPv4\": \"\", \"accessIPv6\": \"\", \"links\": [{\"rel\": \"self\", \"href\": \"http://10.0.0.6:8774/v2.1/servers/4b3371a3-d3fe-44a5-8acc-ccfca398e698\"}, {\"rel\": \"bookmark\", \"href\": \"http://10.0.0.6:8774/servers/4b3371a3-d3fe-44a5-8acc-ccfca398e698\"}], \"OS-DCF:diskConfig\": \"MANUAL\", \"progress\": 0, \"OS-EXT-AZ:availability_zone\": \"nova\", \"config_drive\": \"\", \"key_name\": null, \"OS-SRV-USG:launched_at\": \"2020-09-10T01:41:39.000000\", \"OS-SRV-USG:terminated_at\": null, \"OS-EXT-SRV-ATTR:host\": \"os-compute04.maas\", \"OS-EXT-SRV-ATTR:instance_name\": \"instance-0000002b\", \"OS-EXT-SRV-ATTR:hypervisor_hostname\": \"os-compute04.maas\", \"OS-EXT-STS:task_state\": null, \"OS-EXT-STS:vm_state\": \"active\", \"OS-EXT-STS:power_state\": 1, \"os-extended-volumes:volumes_attached\": [], \"security_groups\": [{\"name\": \"default\"}]}, {\"id\": \"d141db45-382d-4a76-8ea2-b8470654845f\", \"name\": \"new_server\", \"status\": \"ACTIVE\", \"tenant_id\": \"4ff03a005c6c4ce294c871dc3ba7fcb4\", \"user_id\": \"fc4760631f1c4212b67b068856f36541\", \"metadata\": {}, \"hostId\": \"9f3f542ad9b108584545ee5cf9c5a30f7b6aae97001cc23e4063f2a1\", \"image\": {\"id\": \"e14d4d1e-bf83-4c7e-8083-2bc0f0a9928e\", \"links\": [{\"rel\": \"bookmark\", \"href\": \"http://10.0.0.6:8774/images/e14d4d1e-bf83-4c7e-8083-2bc0f0a9928e\"}]}, \"flavor\": {\"id\": \"eaa52d71-19ef-4446-8cf9-6266129e7b6d\", \"links\": [{\"rel\": \"bookmark\", \"href\": \"http://10.0.0.6:8774/flavors/eaa52d71-19ef-4446-8cf9-6266129e7b6d\"}]}, \"created\": \"2020-09-10T01:29:16Z\", \"updated\": \"2020-09-10T01:36:25Z\", \"addresses\": {\"Pub_Net\": [{\"version\": 4, \"addr\": \"10.0.4.99\", \"OS-EXT-IPS:type\": \"fixed\", \"OS-EXT-IPS-MAC:mac_addr\": \"fa:16:3e:fc:3b:5b\"}]}, \"accessIPv4\": \"\", \"accessIPv6\": \"\", \"links\": [{\"rel\": \"self\", \"href\": \"http://10.0.0.6:8774/v2.1/servers/d141db45-382d-4a76-8ea2-b8470654845f\"}, {\"rel\": \"bookmark\", \"href\": \"http://10.0.0.6:8774/servers/d141db45-382d-4a76-8ea2-b8470654845f\"}], \"OS-DCF:diskConfig\": \"MANUAL\", \"progress\": 0, \"OS-EXT-AZ:availability_zone\": \"nova\", \"config_drive\": \"\", \"key_name\": null, \"OS-SRV-USG:launched_at\": \"2020-09-10T01:36:24.000000\", \"OS-SRV-USG:terminated_at\": null, \"OS-EXT-SRV-ATTR:host\": \"os-compute04.maas\", \"OS-EXT-SRV-ATTR:instance_name\": \"instance-0000002a\", \"OS-EXT-SRV-ATTR:hypervisor_hostname\": \"os-compute04.maas\", \"OS-EXT-STS:task_state\": null, \"OS-EXT-STS:vm_state\": \"active\", \"OS-EXT-STS:power_state\": 1, \"os-extended-volumes:volumes_attached\": [], \"security_groups\": [{\"name\": \"default\"}]}, {\"id\": \"d80922a6-dc55-4b07-af49-751a168da574\", \"name\": \"new_server\", \"status\": \"SHUTOFF\", \"tenant_id\": \"4ff03a005c6c4ce294c871dc3ba7fcb4\", \"user_id\": \"fc4760631f1c4212b67b068856f36541\", \"metadata\": {}, \"hostId\": \"2c3def6867e3a2e2ea57940f65ba9eef26f71b86de9bf2ec649c2a3f\", \"image\": {\"id\": \"e14d4d1e-bf83-4c7e-8083-2bc0f0a9928e\", \"links\": [{\"rel\": \"bookmark\", \"href\": \"http://10.0.0.6:8774/images/e14d4d1e-bf83-4c7e-8083-2bc0f0a9928e\"}]}, \"flavor\": {\"id\": \"172f99c4-4498-49da-a779-382db9ced13b\", \"links\": [{\"rel\": \"bookmark\", \"href\": \"http://10.0.0.6:8774/flavors/172f99c4-4498-49da-a779-382db9ced13b\"}]}, \"created\": \"2020-09-10T00:57:17Z\", \"updated\": \"2020-09-10T01:24:47Z\", \"addresses\": {\"Pub_Net\": [{\"version\": 4, \"addr\": \"10.0.4.31\", \"OS-EXT-IPS:type\": \"fixed\", \"OS-EXT-IPS-MAC:mac_addr\": \"fa:16:3e:73:d3:d2\"}]}, \"accessIPv4\": \"\", \"accessIPv6\": \"\", \"links\": [{\"rel\": \"self\", \"href\": \"http://10.0.0.6:8774/v2.1/servers/d80922a6-dc55-4b07-af49-751a168da574\"}, {\"rel\": \"bookmark\", \"href\": \"http://10.0.0.6:8774/servers/d80922a6-dc55-4b07-af49-751a168da574\"}], \"OS-DCF:diskConfig\": \"MANUAL\", \"OS-EXT-AZ:availability_zone\": \"nova\", \"config_drive\": \"\", \"key_name\": null, \"OS-SRV-USG:launched_at\": \"2020-09-10T00:57:29.000000\", \"OS-SRV-USG:terminated_at\": null, \"OS-EXT-SRV-ATTR:host\": \"os-compute03.maas\", \"OS-EXT-SRV-ATTR:instance_name\": \"instance-00000029\", \"OS-EXT-SRV-ATTR:hypervisor_hostname\": \"os-compute03.maas\", \"OS-EXT-STS:task_state\": null, \"OS-EXT-STS:vm_state\": \"stopped\", \"OS-EXT-STS:power_state\": 4, \"os-extended-volumes:volumes_attached\": [], \"security_groups\": [{\"name\": \"default\"}]}, {\"id\": \"5da9c2f8-53b4-41e1-8e7a-0dc7869559e5\", \"name\": \"13\", \"status\": \"ACTIVE\", \"tenant_id\": \"4ff03a005c6c4ce294c871dc3ba7fcb4\", \"user_id\": \"fc4760631f1c4212b67b068856f36541\", \"metadata\": {}, \"hostId\": \"2c3def6867e3a2e2ea57940f65ba9eef26f71b86de9bf2ec649c2a3f\", \"image\": {\"id\": \"e14d4d1e-bf83-4c7e-8083-2bc0f0a9928e\", \"links\": [{\"rel\": \"bookmark\", \"href\": \"http://10.0.0.6:8774/images/e14d4d1e-bf83-4c7e-8083-2bc0f0a9928e\"}]}, \"flavor\": {\"id\": \"eaa52d71-19ef-4446-8cf9-6266129e7b6d\", \"links\": [{\"rel\": \"bookmark\", \"href\": \"http://10.0.0.6:8774/flavors/eaa52d71-19ef-4446-8cf9-6266129e7b6d\"}]}, \"created\": \"2020-09-08T02:59:49Z\", \"updated\": \"2020-09-08T03:04:52Z\", \"addresses\": {\"Pub_Net\": [{\"version\": 4, \"addr\": \"10.0.4.32\", \"OS-EXT-IPS:type\": \"fixed\", \"OS-EXT-IPS-MAC:mac_addr\": \"fa:16:3e:72:2e:c5\"}]}, \"accessIPv4\": \"\", \"accessIPv6\": \"\", \"links\": [{\"rel\": \"self\", \"href\": \"http://10.0.0.6:8774/v2.1/servers/5da9c2f8-53b4-41e1-8e7a-0dc7869559e5\"}, {\"rel\": \"bookmark\", \"href\": \"http://10.0.0.6:8774/servers/5da9c2f8-53b4-41e1-8e7a-0dc7869559e5\"}], \"OS-DCF:diskConfig\": \"AUTO\", \"progress\": 0, \"OS-EXT-AZ:availability_zone\": \"nova\", \"config_drive\": \"\", \"key_name\": null, \"OS-SRV-USG:launched_at\": \"2020-09-08T03:04:51.000000\", \"OS-SRV-USG:terminated_at\": null, \"OS-EXT-SRV-ATTR:host\": \"os-compute03.maas\", \"OS-EXT-SRV-ATTR:instance_name\": \"instance-00000027\", \"OS-EXT-SRV-ATTR:hypervisor_hostname\": \"os-compute03.maas\", \"OS-EXT-STS:task_state\": null, \"OS-EXT-STS:vm_state\": \"active\", \"OS-EXT-STS:power_state\": 1, \"os-extended-volumes:volumes_attached\": [], \"security_groups\": [{\"name\": \"default\"}]}, {\"id\": \"8db1ca0d-a739-40c9-95c5-b61923d1aea6\", \"name\": \"12\", \"status\": \"ACTIVE\", \"tenant_id\": \"4ff03a005c6c4ce294c871dc3ba7fcb4\", \"user_id\": \"fc4760631f1c4212b67b068856f36541\", \"metadata\": {}, \"hostId\": \"2c3def6867e3a2e2ea57940f65ba9eef26f71b86de9bf2ec649c2a3f\", \"image\": {\"id\": \"9ba70288-8dac-464c-af4c-97920b103f00\", \"links\": [{\"rel\": \"bookmark\", \"href\": \"http://10.0.0.6:8774/images/9ba70288-8dac-464c-af4c-97920b103f00\"}]}, \"flavor\": {\"id\": \"ed32da40-33a8-42d9-8689-a2e1bde9eb84\", \"links\": [{\"rel\": \"bookmark\", \"href\": \"http://10.0.0.6:8774/flavors/ed32da40-33a8-42d9-8689-a2e1bde9eb84\"}]}, \"created\": \"2020-09-08T02:36:26Z\", \"updated\": \"2020-09-08T02:37:13Z\", \"addresses\": {\"Pub_Net\": [{\"version\": 4, \"addr\": \"10.0.4.112\", \"OS-EXT-IPS:type\": \"fixed\", \"OS-EXT-IPS-MAC:mac_addr\": \"fa:16:3e:ce:16:e0\"}]}, \"accessIPv4\": \"\", \"accessIPv6\": \"\", \"links\": [{\"rel\": \"self\", \"href\": \"http://10.0.0.6:8774/v2.1/servers/8db1ca0d-a739-40c9-95c5-b61923d1aea6\"}, {\"rel\": \"bookmark\", \"href\": \"http://10.0.0.6:8774/servers/8db1ca0d-a739-40c9-95c5-b61923d1aea6\"}], \"OS-DCF:diskConfig\": \"AUTO\", \"progress\": 0, \"OS-EXT-AZ:availability_zone\": \"nova\", \"config_drive\": \"\", \"key_name\": null, \"OS-SRV-USG:launched_at\": \"2020-09-08T02:37:12.000000\", \"OS-SRV-USG:terminated_at\": null, \"OS-EXT-SRV-ATTR:host\": \"os-compute03.maas\", \"OS-EXT-SRV-ATTR:instance_name\": \"instance-00000026\", \"OS-EXT-SRV-ATTR:hypervisor_hostname\": \"os-compute03.maas\", \"OS-EXT-STS:task_state\": null, \"OS-EXT-STS:vm_state\": \"active\", \"OS-EXT-STS:power_state\": 1, \"os-extended-volumes:volumes_attached\": [], \"security_groups\": [{\"name\": \"default\"}]}]}'\n"
     ]
    }
   ],
   "source": [
    "servers = requests.get(servers_url, headers=headers)\n",
    "print(servers.content)"
   ]
  },
  {
   "cell_type": "code",
   "execution_count": 87,
   "metadata": {},
   "outputs": [],
   "source": [
    "server_list = json.loads(servers.content.decode(\"utf-8\"))[\"servers\"]"
   ]
  },
  {
   "cell_type": "code",
   "execution_count": 88,
   "metadata": {},
   "outputs": [
    {
     "name": "stdout",
     "output_type": "stream",
     "text": [
      "01225672-17ed-4f95-9793-87471cb8a423 new_server ACTIVE 10.0.4.113\n",
      "4b3371a3-d3fe-44a5-8acc-ccfca398e698 new_server ACTIVE 10.0.4.26\n",
      "d141db45-382d-4a76-8ea2-b8470654845f new_server ACTIVE 10.0.4.99\n",
      "d80922a6-dc55-4b07-af49-751a168da574 new_server SHUTOFF 10.0.4.31\n",
      "5da9c2f8-53b4-41e1-8e7a-0dc7869559e5 13 ACTIVE 10.0.4.32\n",
      "8db1ca0d-a739-40c9-95c5-b61923d1aea6 12 ACTIVE 10.0.4.112\n"
     ]
    }
   ],
   "source": [
    "for server in server_list:\n",
    "    print(server[\"id\"], server[\"name\"], server[\"status\"], server[\"addresses\"][\"Pub_Net\"][0][\"addr\"])"
   ]
  },
  {
   "cell_type": "code",
   "execution_count": 78,
   "metadata": {
    "scrolled": true
   },
   "outputs": [],
   "source": [
    "servers_url = \"http://10.0.0.6:8774/v2.1/servers/d80922a6-dc55-4b07-af49-751a168da574/action\"\n",
    "\n",
    "data = {\"os-stop\":None}\n",
    "# print(json.dumps(data))\n",
    "response = requests.post(servers_url, headers=headers, data=json.dumps(data))"
   ]
  },
  {
   "cell_type": "code",
   "execution_count": 79,
   "metadata": {},
   "outputs": [
    {
     "name": "stdout",
     "output_type": "stream",
     "text": [
      "<class 'str'>\n"
     ]
    }
   ],
   "source": [
    "response = response.content.decode(\"utf-8\")\n",
    "print(type(response))"
   ]
  },
  {
   "cell_type": "code",
   "execution_count": 81,
   "metadata": {},
   "outputs": [
    {
     "name": "stdout",
     "output_type": "stream",
     "text": [
      "True\n"
     ]
    }
   ],
   "source": [
    "if response == \"\":\n",
    "    print(True)"
   ]
  },
  {
   "cell_type": "code",
   "execution_count": 77,
   "metadata": {},
   "outputs": [
    {
     "data": {
      "text/plain": [
       "{'conflictingRequest': {'code': 409,\n",
       "  'message': \"Cannot 'start' instance d80922a6-dc55-4b07-af49-751a168da574 while it is in vm_state active\"}}"
      ]
     },
     "execution_count": 77,
     "metadata": {},
     "output_type": "execute_result"
    }
   ],
   "source": [
    "result = json.loads(response)\n",
    "result"
   ]
  },
  {
   "cell_type": "code",
   "execution_count": 62,
   "metadata": {},
   "outputs": [
    {
     "data": {
      "text/plain": [
       "{'code': 409,\n",
       " 'message': \"Cannot 'stop' instance d80922a6-dc55-4b07-af49-751a168da574 while it is in vm_state stopped\"}"
      ]
     },
     "execution_count": 62,
     "metadata": {},
     "output_type": "execute_result"
    }
   ],
   "source": [
    "result[\"conflictingRequest\"]"
   ]
  },
  {
   "cell_type": "code",
   "execution_count": 84,
   "metadata": {},
   "outputs": [],
   "source": [
    "servers_url = \"http://10.0.0.6:8774/v2.1/servers\"\n",
    "data = {\n",
    "    \"server\": {\n",
    "        \"name\": \"new_server\",\n",
    "        \"imageRef\": \"e14d4d1e-bf83-4c7e-8083-2bc0f0a9928e\",\n",
    "        \"flavorRef\": \"eaa52d71-19ef-4446-8cf9-6266129e7b6d\",\n",
    "        \"networks\": [\n",
    "            {\n",
    "                \"uuid\": \"6966aae2-2784-4c9a-a26e-a657bcded49d\"\n",
    "            }\n",
    "        ]\n",
    "    }\n",
    "}\n",
    "response = requests.post(servers_url, headers=headers, data=json.dumps(data))"
   ]
  },
  {
   "cell_type": "raw",
   "metadata": {},
   "source": [
    "\n"
   ]
  },
  {
   "cell_type": "code",
   "execution_count": 90,
   "metadata": {},
   "outputs": [],
   "source": [
    "re = response.content.decode(\"utf-8\")"
   ]
  },
  {
   "cell_type": "code",
   "execution_count": 95,
   "metadata": {},
   "outputs": [
    {
     "data": {
      "text/plain": [
       "{'server': {'id': '01225672-17ed-4f95-9793-87471cb8a423',\n",
       "  'links': [{'rel': 'self',\n",
       "    'href': 'http://10.0.0.6:8774/v2.1/servers/01225672-17ed-4f95-9793-87471cb8a423'},\n",
       "   {'rel': 'bookmark',\n",
       "    'href': 'http://10.0.0.6:8774/servers/01225672-17ed-4f95-9793-87471cb8a423'}],\n",
       "  'OS-DCF:diskConfig': 'MANUAL',\n",
       "  'security_groups': [{'name': 'default'}],\n",
       "  'adminPass': 'D5d5pisiGBPU'}}"
      ]
     },
     "execution_count": 95,
     "metadata": {},
     "output_type": "execute_result"
    }
   ],
   "source": [
    "json.loads(re)"
   ]
  },
  {
   "cell_type": "code",
   "execution_count": 100,
   "metadata": {},
   "outputs": [],
   "source": [
    "servers_url = \"http://10.0.0.6:8774/v2.1/servers/01225672-17ed-4f95-9793-87471cb8a423\"\n",
    "\n",
    "response = requests.delete(servers_url, headers=headers)"
   ]
  },
  {
   "cell_type": "code",
   "execution_count": 101,
   "metadata": {},
   "outputs": [
    {
     "data": {
      "text/plain": [
       "'{\"itemNotFound\": {\"code\": 404, \"message\": \"Instance 01225672-17ed-4f95-9793-87471cb8a423 could not be found.\"}}'"
      ]
     },
     "execution_count": 101,
     "metadata": {},
     "output_type": "execute_result"
    }
   ],
   "source": [
    "response.content.decode(\"utf-8\")"
   ]
  },
  {
   "cell_type": "code",
   "execution_count": 99,
   "metadata": {},
   "outputs": [
    {
     "name": "stdout",
     "output_type": "stream",
     "text": [
      "True\n"
     ]
    }
   ],
   "source": [
    "if response.content.decode(\"utf-8\") == \"\":\n",
    "    print(True)"
   ]
  }
 ],
 "metadata": {
  "kernelspec": {
   "display_name": "Python 3",
   "language": "python",
   "name": "python3"
  },
  "language_info": {
   "codemirror_mode": {
    "name": "ipython",
    "version": 3
   },
   "file_extension": ".py",
   "mimetype": "text/x-python",
   "name": "python",
   "nbconvert_exporter": "python",
   "pygments_lexer": "ipython3",
   "version": "3.8.5"
  }
 },
 "nbformat": 4,
 "nbformat_minor": 4
}
